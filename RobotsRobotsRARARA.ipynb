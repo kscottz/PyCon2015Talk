{
 "cells": [
  {
   "cell_type": "markdown",
   "metadata": {},
   "source": [
    "<h1 align=center>Robots! Robots! RA! RA! RA!</h1>\n",
    "<h4 align=center>Katherine Scott / @kscottz / katherine@tempoautomation.com</h4>\n",
    "<img src=\"/files/images/bender.jpg\" height=400 align=center>\n"
   ]
  },
  {
   "cell_type": "markdown",
   "metadata": {},
   "source": [
    "<h1 align=center>Why should you listen to me?</h1>\n",
    "<img src=\"files/images/youngkat.jpg\" width=400 align=left>\n",
    "<img src=\"files/images/hmd.jpg\" width=400 align=center>\n",
    "<img src=\"files/images/essess.jpg\" width=400 align=right>\n",
    "\n"
   ]
  },
  {
   "cell_type": "markdown",
   "metadata": {
    "collapsed": false
   },
   "source": [
    "<h1 align=center>I am also doing this full time at Tempo Automation</h1>\n",
    "<img src=\"/files/images/tempo.jpg\">\n",
    "\n",
    "<blink><h2 style=\"color:#F00\"><i>Shameless plug -- I am hiring. Also we can probably make your circuit boards faster and cheaper.</h2></i></blink>"
   ]
  },
  {
   "cell_type": "markdown",
   "metadata": {},
   "source": [
    "<h1 align=center>This is what that robot does.</h1>\n",
    "<img src=\"/files/images/smt.jpg\" align=left>\n",
    "<img src=\"/files/images/pcb.jpg\" align=right>\n",
    "\n",
    "\n"
   ]
  },
  {
   "cell_type": "markdown",
   "metadata": {},
   "source": [
    "<h1 align=center> Before we talk about robots let's talk about the web </h1>\n",
    "<img src=\"/files/images/wheel.jpg\">\n",
    "<h2>\n",
    "<ul>\n",
    "<li>Who writes a web server from first principals?</li>\n",
    "<br>\n",
    "<li>That one person did it once, 'cause it is hard.</li>\n",
    "<br>\n",
    "<li>We take it at a given when we go to do work.</li>\n",
    "<br>\n",
    "<li><b>SO WHY WOULD YOU EXPECT TO WRITE A ROBOT FROM FIRST PRINCIPALS?</b></li>\n",
    "<br>\n",
    "<li> Wheels -- do not require re-invention </li>\n",
    "</h2>\n",
    "</ul>"
   ]
  },
  {
   "cell_type": "markdown",
   "metadata": {},
   "source": [
    "<h1 align=center> Good News -- There's robotics package for Python</h1>\n",
    "<img src=\"/files/images/ros.png\" align=center>\n",
    "<h2>\n",
    "<ul align=center>\n",
    "<li>Runs some of the most advanced robots.</li>\n",
    "<br>\n",
    "<li>Plays well on Linux and runs on x86 and ARM</li>\n",
    "<br>\n",
    "<li><B>REALLY REALLY AWESOME FOSS COMMUNITY</B></li>\n",
    "<br>\n",
    "<li>Reasonably mature and battle hardened.</li>\n",
    "<br>\n",
    "<li>Let's C/C++/Lisp/Python/Java/JS play well together </li>\n",
    "</h2>\n",
    "</ul>"
   ]
  },
  {
   "cell_type": "markdown",
   "metadata": {},
   "source": [
    "<h1 align=center> ROS -- So what is it? </h1>\n",
    "\n",
    "<img src=\"/files/images/mind_blown.gif\" align=center>\n",
    "<h2>\n",
    "<ul align=center>\n",
    "<li>Package manager, build system (catkin), and deployment all in one.</li>\n",
    "<br>\n",
    "<li>Unified \"system bus\" for message passing</li>\n",
    "<br>\n",
    "<li>Every utility you could ever think of.</li>\n",
    "<br>\n",
    "<li>Plugin framework for adding robot modules.</li>\n",
    "<br>\n",
    "<li>Standard libraries for handling images, transforms, 3D models, etc.</li>\n",
    "</h2>\n",
    "</ul>\n"
   ]
  },
  {
   "cell_type": "markdown",
   "metadata": {},
   "source": [
    "<h1 align=center> I could go on chatting ...but let's just do it instead.</h1>\n",
    "<br>\n",
    "<img src=\"/files/images/twitchy.jpg\" width=400 align=left>\n",
    "<img src=\"/files/images/kuka.jpg\" width=400 align=right>\n",
    "<br>\n",
    "<br>\n",
    "\n",
    "\n"
   ]
  },
  {
   "cell_type": "code",
   "execution_count": null,
   "metadata": {
    "collapsed": true
   },
   "outputs": [],
   "source": []
  }
 ],
 "metadata": {
  "kernelspec": {
   "display_name": "Python 2",
   "language": "python",
   "name": "python2"
  },
  "language_info": {
   "codemirror_mode": {
    "name": "ipython",
    "version": 2
   },
   "file_extension": ".py",
   "mimetype": "text/x-python",
   "name": "python",
   "nbconvert_exporter": "python",
   "pygments_lexer": "ipython2",
   "version": "2.7.6"
  }
 },
 "nbformat": 4,
 "nbformat_minor": 0
}
